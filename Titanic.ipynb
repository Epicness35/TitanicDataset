{
 "cells": [
  {
   "cell_type": "markdown",
   "metadata": {},
   "source": [
    "# Titanic Dataset Data Science Workflow\n",
    "## Srujan Penikelapati"
   ]
  },
  {
   "cell_type": "markdown",
   "metadata": {},
   "source": [
    "### First, we'll import the necessary libaries"
   ]
  },
  {
   "cell_type": "code",
   "execution_count": 1,
   "metadata": {
    "_cell_guid": "b1076dfc-b9ad-4769-8c92-a6c4dae69d19",
    "_uuid": "8f2839f25d086af736a60e9eeb907d3b93b6e0e5"
   },
   "outputs": [],
   "source": [
    "import numpy as np # linear algebra\n",
    "import pandas as pd # data processing, CSV file I/O (e.g. pd.read_csv)\n",
    "from sklearn.model_selection import train_test_split\n",
    "from sklearn.ensemble import RandomForestClassifier\n",
    "from sklearn import metrics\n",
    "import matplotlib.pyplot as plt\n",
    "from sklearn.linear_model import LinearRegression\n",
    "from sklearn import tree\n",
    "import seaborn as sns\n"
   ]
  },
  {
   "cell_type": "markdown",
   "metadata": {},
   "source": [
    "## Now, we can import the dataset file. \n",
    "\n",
    "There are two files, a train and a test file. The train file is the file on which we train our Machine Learning model. We test the performance of our model with the test file."
   ]
  },
  {
   "cell_type": "code",
   "execution_count": 10,
   "metadata": {
    "_cell_guid": "79c7e3d0-c299-4dcb-8224-4455121ee9b0",
    "_uuid": "d629ff2d2480ee46fbb7e2d37f6b5fab8052498a"
   },
   "outputs": [],
   "source": [
    "data = pd.read_csv(\"/Users/srujanpenikelapati/Documents/git/TitanicDataset/train.csv\")\n"
   ]
  },
  {
   "cell_type": "markdown",
   "metadata": {},
   "source": [
    "## Exploratory Data Analysis\n",
    "\n",
    "The first step in the Data Science workflow is doing Exploratory Data Analysis (EDA). This is done to identify trends in our data, and to get familiar with the dataset so Data Cleaning and Feature Engineering will bbe easier. "
   ]
  },
  {
   "cell_type": "code",
   "execution_count": 48,
   "metadata": {},
   "outputs": [
    {
     "name": "stdout",
     "output_type": "stream",
     "text": [
      "   PassengerId  Survived  Pclass  \\\n",
      "0            1         0       3   \n",
      "1            2         1       1   \n",
      "2            3         1       3   \n",
      "3            4         1       1   \n",
      "4            5         0       3   \n",
      "\n",
      "                                                Name     Sex   Age  SibSp  \\\n",
      "0                            Braund, Mr. Owen Harris    male  22.0      1   \n",
      "1  Cumings, Mrs. John Bradley (Florence Briggs Th...  female  38.0      1   \n",
      "2                             Heikkinen, Miss. Laina  female  26.0      0   \n",
      "3       Futrelle, Mrs. Jacques Heath (Lily May Peel)  female  35.0      1   \n",
      "4                           Allen, Mr. William Henry    male  35.0      0   \n",
      "\n",
      "   Parch            Ticket     Fare Cabin Embarked  \n",
      "0      0         A/5 21171   7.2500   NaN        S  \n",
      "1      0          PC 17599  71.2833   C85        C  \n",
      "2      0  STON/O2. 3101282   7.9250   NaN        S  \n",
      "3      0            113803  53.1000  C123        S  \n",
      "4      0            373450   8.0500   NaN        S  \n"
     ]
    }
   ],
   "source": [
    "print(data.head())"
   ]
  },
  {
   "cell_type": "markdown",
   "metadata": {},
   "source": [
    " - Looking at the data, there are 12 columns, and our goal is to design a model that predicts survival for Titanic passengers.\n",
    " - Based on my domain knowledge of the Titanic, I know that women and children were more likely than men to survive.\n",
    " - I also think that rich people were more likely to survive.\n",
    "     - Maybe we can use Fare  or Pclass (Passenger class) as a proxy for wealth?\n",
    " - With these preliminary ideas in mind, I can start graphically viewing the data."
   ]
  },
  {
   "cell_type": "code",
   "execution_count": 9,
   "metadata": {},
   "outputs": [
    {
     "name": "stdout",
     "output_type": "stream",
     "text": [
      "Percent of males who survived:  0.18890814558058924\n",
      "Percent of females who survived:  0.7420382165605095\n"
     ]
    }
   ],
   "source": [
    "#Find Male vs. Female survival Rates\n",
    "\n",
    "maleSurvived = data[data[\"Sex\"]==\"male\"][\"Survived\"]==1 \n",
    "femaleSurvived = data[data[\"Sex\"]==\"female\"][\"Survived\"]==1\n",
    "\n",
    "print(\"Percent of males who survived: \", sum(maleSurvived) / len(maleSurvived)) \n",
    "print(\"Percent of females who survived: \", sum(femaleSurvived) / len(femaleSurvived))"
   ]
  },
  {
   "cell_type": "markdown",
   "metadata": {},
   "source": [
    "### Wow! \n",
    "\n",
    "Only about **18%** of men survived, while **74%** of women did! Sex is definitely a feature to use to train your model."
   ]
  },
  {
   "cell_type": "markdown",
   "metadata": {},
   "source": [
    "## Passenger Class"
   ]
  },
  {
   "cell_type": "code",
   "execution_count": 12,
   "metadata": {},
   "outputs": [
    {
     "data": {
      "image/png": "[encoded data removed]",
      "text/plain": [
       "<Figure size 432x288 with 1 Axes>"
      ]
     },
     "metadata": {
      "needs_background": "light"
     },
     "output_type": "display_data"
    }
   ],
   "source": [
    "#Survival Percents\n",
    "survivalPercentsBasedonClass = [sum(firstclassSurvived) / len(firstclassSurvived), sum(secondClassSurvived) / len(secondClassSurvived), sum(thirdClassSurvived) / len(thirdClassSurvived)]\n",
    "categories = [\"First Class\", \"Second Class\", \"Third Class\"]\n",
    "xAxisLocations = [0, 2, 4]\n",
    "plt.bar(xAxisLocations, survivalPercentsBasedonClass)\n",
    "plt.xticks(xAxisLocations, categories)\n",
    "plt.yticks(np.arange(0, 1, step=0.1))\n",
    "plt.ylabel(\"Percent of People who Survived\")\n",
    "plt.xlabel(\"Passenger Class\")\n",
    "plt.show()"
   ]
  },
  {
   "cell_type": "code",
   "execution_count": 10,
   "metadata": {},
   "outputs": [
    {
     "name": "stdout",
     "output_type": "stream",
     "text": [
      "Percent of First Class people who survived:  0.6296296296296297\n",
      "Percent of Second Class people who survived:  0.47282608695652173\n",
      "Percent of Third Class people who survived:  0.24236252545824846\n"
     ]
    }
   ],
   "source": [
    "#Find survival rates across the 3 Passenger Classes\n",
    "\n",
    "firstclassSurvived = data[data[\"Pclass\"] == 1][\"Survived\"] == 1\n",
    "secondClassSurvived =  data[data[\"Pclass\"] == 2][\"Survived\"] == 1\n",
    "thirdClassSurvived = data[data[\"Pclass\"] == 3][\"Survived\"] == 1\n",
    "\n",
    "print(\"Percent of First Class people who survived: \", sum(firstclassSurvived) / len(firstclassSurvived))\n",
    "print(\"Percent of Second Class people who survived: \", sum(secondClassSurvived) / len(secondClassSurvived))\n",
    "print(\"Percent of Third Class people who survived: \", sum(thirdClassSurvived) / len(thirdClassSurvived))"
   ]
  },
  {
   "cell_type": "markdown",
   "metadata": {},
   "source": [
    "We can also see that Class has an impact on survival. Passengers on first class were twice as likely to survive than Third class passengers."
   ]
  },
  {
   "cell_type": "code",
   "execution_count": 15,
   "metadata": {},
   "outputs": [
    {
     "data": {
      "image/png": "[encoded data removed]",
      "text/plain": [
       "<Figure size 432x216 with 2 Axes>"
      ]
     },
     "metadata": {
      "needs_background": "light"
     },
     "output_type": "display_data"
    }
   ],
   "source": [
    "#Age and Survival Numbers (not percents)\n",
    "x = sns.FacetGrid(data, col=\"Survived\")\n",
    "x = x.map(plt.hist, \"Age\")\n"
   ]
  },
  {
   "cell_type": "markdown",
   "metadata": {},
   "source": [
    "- I also want to see the relationship with age and survival. Looking at the graph, it appears that middle aged pepople were much more likely to die than live.\n",
    "- We also see that young people (0-10) were almost twice as likely to survive than die. \n",
    "- **Age** does seem to have an influence on the survival of passengers, so we'll make sure to keep that feature. "
   ]
  },
  {
   "cell_type": "markdown",
   "metadata": {},
   "source": [
    "### SibSp and Parch\n",
    "\n",
    "SibSp refers to the number of siblings and spouses a passenger has onboard with them. Parch refers to the number of parents and children the passenger has.\n",
    "\n",
    "- I hypothesize that a passenger with more parents and children is more likely to stay behind, and not survive.\n",
    "- One thing I want to make note of is that since SibSp and Parch both refer to the number of relatives a passenger has, it would make sense to combine those two features into one feature, called Relatives\n",
    "    - This reduces the risk of overfitting in our model because only one feature is being used. "
   ]
  },
  {
   "cell_type": "code",
   "execution_count": 11,
   "metadata": {
    "collapsed": true
   },
   "outputs": [
    {
     "data": {
      "image/png": "[encoded data removed]",
      "text/plain": [
       "<Figure size 432x288 with 1 Axes>"
      ]
     },
     "metadata": {
      "needs_background": "light"
     },
     "output_type": "display_data"
    }
   ],
   "source": []
  },
  {
   "cell_type": "code",
   "execution_count": 24,
   "metadata": {},
   "outputs": [
    {
     "data": {
      "text/plain": [
       "<matplotlib.axes._subplots.AxesSubplot at 0x1a216e1c50>"
      ]
     },
     "execution_count": 24,
     "metadata": {},
     "output_type": "execute_result"
    },
    {
     "data": {
      "image/png": "[encoded data removed]",
      "text/plain": [
       "<Figure size 1200x600 with 2 Axes>"
      ]
     },
     "metadata": {
      "needs_background": "light"
     },
     "output_type": "display_data"
    }
   ],
   "source": [
    "#data[\"Relatives\"] = data[\"SibSp\"] + data[\"Parch\"]\n",
    "#data=data.drop([\"SibSp\", \"Parch\"], axis=1)\n",
    "\n",
    "#Look at Survival rates based on the number of siblings, spouses, and parents and childrn\n",
    "\n",
    "fig, axes = plt.subplots(ncols = 2)\n",
    "\n",
    "fig.set_size_inches(12, 6)\n",
    "fig.set_dpi(100)\n",
    "\n",
    "#SibSp and Survival\n",
    "sns.barplot(x=\"SibSp\",y=\"Survived\", data=data,ax = axes[0], ci=None)\n",
    "\n",
    "#Parch and Survival\n",
    "sns.barplot(x=\"Parch\",y=\"Survived\", data=data, ax = axes[1], ci=None)\n",
    "\n",
    "#Relatives and Survival - sex hue\n",
    "#sns.barplot(x=\"Relatives\",y=\"Survived\",hue=\"Sex\", data=data, ax=axes[1], ci=None)"
   ]
  },
  {
   "cell_type": "markdown",
   "metadata": {},
   "source": [
    "The data shows that in fact, people with **more than 1 relative were more likely to survive**, which is interesting, because I originially thought those with multiple relatives would be less likely to survive."
   ]
  },
  {
   "cell_type": "markdown",
   "metadata": {},
   "source": [
    "## Embarked Location\n",
    "Seeing if where the passengers embarked had an effect on survival"
   ]
  },
  {
   "cell_type": "code",
   "execution_count": 32,
   "metadata": {},
   "outputs": [
    {
     "data": {
      "text/plain": [
       "S    644\n",
       "C    168\n",
       "Q     77\n",
       "Name: Embarked, dtype: int64"
      ]
     },
     "execution_count": 32,
     "metadata": {},
     "output_type": "execute_result"
    }
   ],
   "source": [
    "data[\"Embarked\"].value_counts()\n",
    "#There are three boarding locations; S, C, and Q"
   ]
  },
  {
   "cell_type": "code",
   "execution_count": 35,
   "metadata": {},
   "outputs": [
    {
     "name": "stdout",
     "output_type": "stream",
     "text": [
      "Percent of Embarked S people who survived:  0.33695652173913043\n",
      "Percent of Embarked C people who survived:  0.5535714285714286\n",
      "Percent of Embarked Q people who survived:  0.38961038961038963\n"
     ]
    },
    {
     "data": {
      "image/png": "[encoded data removed]",
      "text/plain": [
       "<Figure size 432x288 with 1 Axes>"
      ]
     },
     "metadata": {
      "needs_background": "light"
     },
     "output_type": "display_data"
    }
   ],
   "source": [
    "#Embarked location survival percents\n",
    "embarkedSSurvived = data[data[\"Embarked\"] == \"S\"][\"Survived\"] == 1\n",
    "embarkedCSurvived = data[data[\"Embarked\"] == \"C\"][\"Survived\"] == 1\n",
    "embarkedQSurvived = data[data[\"Embarked\"] == \"Q\"][\"Survived\"] == 1\n",
    "\n",
    "print(\"Percent of Embarked S people who survived: \", sum(embarkedSSurvived) / len(embarkedSSurvived))\n",
    "print(\"Percent of Embarked C people who survived: \", sum(embarkedCSurvived) / len(embarkedCSurvived))\n",
    "print(\"Percent of Embarked Q people who survived: \", sum(embarkedQSurvived) / len(embarkedQSurvived))\n",
    "\n",
    "\n",
    "#Graph the Embarked and Survival Data\n",
    "survivalPercentsBasedonEmbarkedLocation = [sum(embarkedSSurvived) / len(embarkedSSurvived), sum(embarkedCSurvived) / len(embarkedCSurvived), sum(embarkedQSurvived) / len(embarkedQSurvived)]\n",
    "categories = [\"Embarked S\", \"Embarked C\", \"Embarked Q\"]\n",
    "xAxisLocations = [0, 1, 2]\n",
    "plt.bar(xAxisLocations, survivalPercentsBasedonEmbarkedLocation, width=0.5)\n",
    "plt.xticks(xAxisLocations, categories)\n",
    "plt.yticks(np.arange(0, 1, step=0.1))\n",
    "plt.ylabel(\"Percent of People who Survived\")\n",
    "plt.xlabel(\"Embarked Location\")\n",
    "plt.show()\n"
   ]
  },
  {
   "cell_type": "markdown",
   "metadata": {},
   "source": [
    "# Highlights of EDA\n",
    "\n",
    " - **PassengerId** can be removed because it doesn't provide any useful info regarding a passenger's survival\n",
    " - \n",
    " - **Sex** and **Pclass** are very determinant of whether or not a passenger survived\n",
    " - **Name**: All names have some sort of **title**, such as Mr, Mrs., Lady, and these can be proxies for wealth. \n",
    " - **SibSp** and **Parch** had surprising results, as those with more relative survived.\n",
    "     - I do want to combine these into one feature to simplify things.\n",
    " - **Fare** is likely to also be a proxy for wealth\n",
    " - "
   ]
  },
  {
   "cell_type": "markdown",
   "metadata": {},
   "source": [
    "# 2) Data Cleaning\n",
    "\n",
    "- This is where we remove duplicate data or irrelevant features to our response variable of survival.\n",
    "- We also carefully either remove missing dat or impute data (i.e. fill missing values with the mean or median of - available data)\n",
    "- This is important because **better data beats fancier algorithms**\n"
   ]
  },
  {
   "cell_type": "code",
   "execution_count": 3,
   "metadata": {},
   "outputs": [
    {
     "name": "stdout",
     "output_type": "stream",
     "text": [
      "PassengerId      0\n",
      "Survived         0\n",
      "Pclass           0\n",
      "Name             0\n",
      "Sex              0\n",
      "Age            177\n",
      "SibSp            0\n",
      "Parch            0\n",
      "Ticket           0\n",
      "Fare             0\n",
      "Cabin          687\n",
      "Embarked         2\n",
      "dtype: int64\n"
     ]
    }
   ],
   "source": [
    "print(data.isna().sum())"
   ]
  },
  {
   "cell_type": "markdown",
   "metadata": {},
   "source": [
    "- The majority of **Cabin** has missing values, so we can just remove the feature as you can't impute the data easily.\n",
    "- **Age** has 177 missing data values, which can be filled in with the mean age values \n",
    "- **Embarked** has only 2 missing values, so those can be filled in with the most common embarked location.\n"
   ]
  },
  {
   "cell_type": "code",
   "execution_count": 11,
   "metadata": {},
   "outputs": [],
   "source": [
    "data = data.drop(\"Cabin\", axis=1) #Drop Cabin Feature\n"
   ]
  },
  {
   "cell_type": "code",
   "execution_count": 12,
   "metadata": {},
   "outputs": [],
   "source": [
    "data[\"Age\"] = data[\"Age\"].fillna(data[\"Age\"].mean()) #Filling missing Age values with the mean age value"
   ]
  },
  {
   "cell_type": "code",
   "execution_count": 14,
   "metadata": {},
   "outputs": [
    {
     "name": "stdout",
     "output_type": "stream",
     "text": [
      "S    644\n",
      "C    168\n",
      "Q     77\n",
      "Name: Embarked, dtype: int64\n"
     ]
    }
   ],
   "source": [
    "print(data[\"Embarked\"].value_counts())"
   ]
  },
  {
   "cell_type": "markdown",
   "metadata": {},
   "source": [
    "The most frequent embarkation location is S, so we can fill in the 2 missing Embarked values with S. "
   ]
  },
  {
   "cell_type": "code",
   "execution_count": 15,
   "metadata": {},
   "outputs": [],
   "source": [
    "data[\"Embarked\"].fillna(\"S\", inplace=True)"
   ]
  },
  {
   "cell_type": "markdown",
   "metadata": {},
   "source": [
    "Let's take a look at the **Ticket** Feature. "
   ]
  },
  {
   "cell_type": "code",
   "execution_count": 16,
   "metadata": {},
   "outputs": [
    {
     "name": "stdout",
     "output_type": "stream",
     "text": [
      "0             A/5 21171\n",
      "1              PC 17599\n",
      "2      STON/O2. 3101282\n",
      "3                113803\n",
      "4                373450\n",
      "             ...       \n",
      "886              211536\n",
      "887              112053\n",
      "888          W./C. 6607\n",
      "889              111369\n",
      "890              370376\n",
      "Name: Ticket, Length: 891, dtype: object\n"
     ]
    }
   ],
   "source": [
    "print(data[\"Ticket\"])"
   ]
  },
  {
   "cell_type": "markdown",
   "metadata": {},
   "source": [
    " - The data seems to be random numbers and letters, and doesn't seem to correspond with survival rates.\n",
    " - Since this won't help make survival predictions, we can remove this feature."
   ]
  },
  {
   "cell_type": "code",
   "execution_count": 18,
   "metadata": {},
   "outputs": [],
   "source": [
    "data = data.drop(\"Ticket\", axis=1)"
   ]
  },
  {
   "cell_type": "code",
   "execution_count": 19,
   "metadata": {},
   "outputs": [
    {
     "name": "stdout",
     "output_type": "stream",
     "text": [
      "     PassengerId  Survived  Pclass  \\\n",
      "0              1         0       3   \n",
      "1              2         1       1   \n",
      "2              3         1       3   \n",
      "3              4         1       1   \n",
      "4              5         0       3   \n",
      "..           ...       ...     ...   \n",
      "886          887         0       2   \n",
      "887          888         1       1   \n",
      "888          889         0       3   \n",
      "889          890         1       1   \n",
      "890          891         0       3   \n",
      "\n",
      "                                                  Name     Sex        Age  \\\n",
      "0                              Braund, Mr. Owen Harris    male  22.000000   \n",
      "1    Cumings, Mrs. John Bradley (Florence Briggs Th...  female  38.000000   \n",
      "2                               Heikkinen, Miss. Laina  female  26.000000   \n",
      "3         Futrelle, Mrs. Jacques Heath (Lily May Peel)  female  35.000000   \n",
      "4                             Allen, Mr. William Henry    male  35.000000   \n",
      "..                                                 ...     ...        ...   \n",
      "886                              Montvila, Rev. Juozas    male  27.000000   \n",
      "887                       Graham, Miss. Margaret Edith  female  19.000000   \n",
      "888           Johnston, Miss. Catherine Helen \"Carrie\"  female  29.699118   \n",
      "889                              Behr, Mr. Karl Howell    male  26.000000   \n",
      "890                                Dooley, Mr. Patrick    male  32.000000   \n",
      "\n",
      "     SibSp  Parch     Fare Embarked  \n",
      "0        1      0   7.2500        S  \n",
      "1        1      0  71.2833        C  \n",
      "2        0      0   7.9250        S  \n",
      "3        1      0  53.1000        S  \n",
      "4        0      0   8.0500        S  \n",
      "..     ...    ...      ...      ...  \n",
      "886      0      0  13.0000        S  \n",
      "887      0      0  30.0000        S  \n",
      "888      1      2  23.4500        S  \n",
      "889      0      0  30.0000        C  \n",
      "890      0      0   7.7500        Q  \n",
      "\n",
      "[891 rows x 10 columns]\n"
     ]
    }
   ],
   "source": [
    "print(data)"
   ]
  },
  {
   "cell_type": "code",
   "execution_count": null,
   "metadata": {},
   "outputs": [],
   "source": [
    "#Extract Title from People name\n",
    "print(data)\n",
    "titles = []\n",
    "data[\"Title\"] = 0\n",
    "for row in range(len(data[\"Name\"])):\n",
    "    comma = data[\"Name\"][row].find(',')\n",
    "    period = data[\"Name\"][row].find('.')\n",
    "    person_title = data[\"Name\"][row][comma+2:period]\n",
    "    if(person_title not in titles):\n",
    "        titles.append(person_title)\n",
    "    data[\"Title\"][row] = person_title\n",
    "\n",
    "print(data)\n",
    "#data = data.drop(\"Name\", axis=1)\n",
    "#sns.barplot(x=\"Title\", y=\"Survived\", data=data)"
   ]
  },
  {
   "cell_type": "code",
   "execution_count": null,
   "metadata": {},
   "outputs": [],
   "source": [
    "data = data.drop(\"Name\", axis=1)"
   ]
  },
  {
   "cell_type": "code",
   "execution_count": null,
   "metadata": {},
   "outputs": [],
   "source": [
    "#fig, axes = plt.subplots()\n",
    "\n",
    "#fig.set_size_inches(12, 6)\n",
    "\n",
    "# mrSurvived = data[data[\"Title\"] == \"Mr\"][\"Survived\"]\n",
    "# print(\"Mr Survival Rate: \", sum(mrSurvived)/len(mrSurvived))\n",
    "\n",
    "# mrsSurvived = data[data[\"Title\"] == \"Mrs\"][\"Survived\"]\n",
    "# print(\"Mrs Survival Rate: \",sum(mrsSurvived)/len(mrsSurvived))\n",
    "\n",
    "\n",
    "\n",
    "#sns.barplot(x=\"Title\", y=\"Survived\", data=data)\n",
    "\n",
    "data.replace([\"Ms\", \"Mlle\"], \"Miss\", inplace=True)\n",
    "data.replace(\"Mme\", \"Mrs\", inplace=True)"
   ]
  },
  {
   "cell_type": "code",
   "execution_count": null,
   "metadata": {},
   "outputs": [],
   "source": [
    "data.replace(\"Don\", \"Master\", inplace=True)\n"
   ]
  },
  {
   "cell_type": "code",
   "execution_count": null,
   "metadata": {},
   "outputs": [],
   "source": [
    "data.replace([\"Col\", \"Capt\"], \"Major\", inplace=True)"
   ]
  },
  {
   "cell_type": "code",
   "execution_count": null,
   "metadata": {},
   "outputs": [],
   "source": [
    "data.replace(\"Major\", \"Military\", inplace=True)"
   ]
  },
  {
   "cell_type": "code",
   "execution_count": null,
   "metadata": {},
   "outputs": [],
   "source": [
    "data.replace([\"Lady\", \"the Countess\"], \"Miss\", inplace=True)\n"
   ]
  },
  {
   "cell_type": "code",
   "execution_count": null,
   "metadata": {},
   "outputs": [],
   "source": [
    "data.replace([\"Rev\", \"Military\"], \"Dr\", inplace=True)\n",
    "data.replace(\"Dr\", \"Occupational Title\", inplace=True)\n",
    "data.replace([\"Jonkheer\", \"Sir\"], \"Mr\", inplace=True) \n"
   ]
  },
  {
   "cell_type": "code",
   "execution_count": null,
   "metadata": {},
   "outputs": [],
   "source": [
    "sns.barplot(x=\"Title\", y=\"Survived\", data=data, ci=None)"
   ]
  },
  {
   "cell_type": "code",
   "execution_count": null,
   "metadata": {},
   "outputs": [],
   "source": [
    "data[\"Embarked\"].fillna(\"S\", inplace=True)\n",
    "print(data.isna().sum())"
   ]
  },
  {
   "cell_type": "code",
   "execution_count": 36,
   "metadata": {},
   "outputs": [
    {
     "data": {
      "text/plain": [
       "<matplotlib.axes._subplots.AxesSubplot at 0x1a21cb4240>"
      ]
     },
     "execution_count": 36,
     "metadata": {},
     "output_type": "execute_result"
    },
    {
     "data": {
      "image/png": "[encoded data removed]",
      "text/plain": [
       "<Figure size 432x288 with 1 Axes>"
      ]
     },
     "metadata": {
      "needs_background": "light"
     },
     "output_type": "display_data"
    }
   ],
   "source": [
    "#Fare Histogram\n",
    "fig, axes = plt.subplots()\n",
    "axes.set_xlim(0,300)\n",
    "axes.set_xticks(range(0,250,25))\n",
    "sns.distplot(data[\"Fare\"], kde=False, bins=100)\n"
   ]
  },
  {
   "cell_type": "code",
   "execution_count": 49,
   "metadata": {},
   "outputs": [],
   "source": [
    "#pd.cut(data[\"Fare\"], 10, retbins=True)\n",
    "\n",
    "\n",
    "for x in range(len(data[\"Fare\"])):\n",
    "    if (data.at[x, \"Fare\"] >= 0 and data.at[x, \"Fare\"] <64):\n",
    "        data.at[x, \"Fare\"] = 0\n",
    "    elif (data.at[x, \"Fare\"] >= 64 and data.at[x, \"Fare\"] <128):\n",
    "        data.at[x, \"Fare\"] = 1\n",
    "    elif (data.at[x, \"Fare\"] >= 128 and data.at[x, \"Fare\"] <192):\n",
    "        data.at[x, \"Fare\"] = 2\n",
    "    elif (data.at[x, \"Fare\"] >= 192 and data.at[x, \"Fare\"] <256):\n",
    "        data.at[x, \"Fare\"] = 3\n",
    "    elif (data.at[x, \"Fare\"] >= 256 and data.at[x, \"Fare\"] <320):\n",
    "        data.at[x, \"Fare\"] = 4\n",
    "    elif (data.at[x, \"Fare\"] >= 256 and data.at[x, \"Fare\"] <320):\n",
    "        data.at[x, \"Fare\"] = 5\n",
    "    elif (data.at[x, \"Fare\"] >= 320 and data.at[x, \"Fare\"] <384):\n",
    "        data.at[x, \"Fare\"] = 6\n",
    "    elif (data.at[x, \"Fare\"] >= 384 and data.at[x, \"Fare\"] <448):\n",
    "        data.at[x, \"Fare\"] = 7\n",
    "    elif (data.at[x, \"Fare\"] >= 448 and data.at[x, \"Fare\"] <513):\n",
    "        data.at[x, \"Fare\"] = 8\n",
    "    else:\n",
    "        data.at[x, \"Fare\"] = 9\n",
    "        \n"
   ]
  },
  {
   "cell_type": "code",
   "execution_count": 50,
   "metadata": {},
   "outputs": [],
   "source": [
    "data[\"Fare\"] = data[\"Fare\"].astype(int)"
   ]
  },
  {
   "cell_type": "code",
   "execution_count": 56,
   "metadata": {},
   "outputs": [
    {
     "name": "stdout",
     "output_type": "stream",
     "text": [
      "<class 'pandas.core.series.Series'>\n"
     ]
    }
   ],
   "source": [
    "print(type(data[\"Fare\"]))"
   ]
  },
  {
   "cell_type": "code",
   "execution_count": 37,
   "metadata": {
    "collapsed": true
   },
   "outputs": [
    {
     "data": {
      "image/png": "[encoded data removed]",
      "text/plain": [
       "<Figure size 576x864 with 3 Axes>"
      ]
     },
     "metadata": {
      "needs_background": "light"
     },
     "output_type": "display_data"
    }
   ],
   "source": [
    "fig, axes = plt.subplots(nrows = 3, ncols=1)\n",
    "\n",
    "sns.boxplot(data[data[\"Pclass\"]==1][\"Fare\"], ax=axes[0])\n",
    "sns.boxplot(data[data[\"Pclass\"]==2][\"Fare\"], ax=axes[1])\n",
    "sns.boxplot(data[data[\"Pclass\"]==3][\"Fare\"], ax=axes[2])\n",
    "fig.set_size_inches(8, 12)\n"
   ]
  },
  {
   "cell_type": "code",
   "execution_count": null,
   "metadata": {},
   "outputs": [],
   "source": [
    "print(data.sort_values(by=\"Fare\", ascending=False))"
   ]
  },
  {
   "cell_type": "code",
   "execution_count": null,
   "metadata": {},
   "outputs": [],
   "source": [
    "#Fare Per Person\n",
    "data[\"FarePerPerson\"] = data[\"Fare\"] / (data[\"Relatives\"]+1)\n",
    "\n",
    "data[\"FarePerPerson\"] = data[\"FarePerPerson\"].astype(int)\n",
    "\n"
   ]
  },
  {
   "cell_type": "code",
   "execution_count": null,
   "metadata": {},
   "outputs": [],
   "source": [
    "#Age times Class\n",
    "data[\"Age\"].fillna(data[\"Age\"].mean(), inplace=True)\n",
    "\n",
    "data[\"AgeTimesClass\"] = data[\"Age\"] * data[\"Pclass\"]\n",
    "data[\"AgeTimesClass\"] = data[\"AgeTimesClass\"].astype(int)\n",
    "data[\"Age\"] = data[\"Age\"].astype(int)"
   ]
  },
  {
   "cell_type": "code",
   "execution_count": null,
   "metadata": {
    "collapsed": true
   },
   "outputs": [],
   "source": [
    "print(data)"
   ]
  },
  {
   "cell_type": "code",
   "execution_count": null,
   "metadata": {},
   "outputs": [],
   "source": [
    "#Adding Alone Feature\n",
    "data[\"Alone\"] = (data[\"Relatives\"] == 0)\n",
    "\n",
    "data[\"Alone\"] = data[\"Alone\"].astype(int)\n"
   ]
  },
  {
   "cell_type": "code",
   "execution_count": null,
   "metadata": {},
   "outputs": [],
   "source": [
    "print(data.isna().sum())"
   ]
  },
  {
   "cell_type": "code",
   "execution_count": null,
   "metadata": {},
   "outputs": [],
   "source": [
    "sns.boxplot(x=\"Survived\", y=\"Fare\", data=data, order=[0,1])"
   ]
  },
  {
   "cell_type": "code",
   "execution_count": 34,
   "metadata": {},
   "outputs": [
    {
     "name": "stdout",
     "output_type": "stream",
     "text": [
      "Percent of Embarked S people who survived:  0.33695652173913043\n",
      "Percent of Embarked C people who survived:  0.5535714285714286\n",
      "Percent of Embarked Q people who survived:  0.38961038961038963\n"
     ]
    },
    {
     "data": {
      "image/png": "[encoded data removed]",
      "text/plain": [
       "<Figure size 432x288 with 1 Axes>"
      ]
     },
     "metadata": {
      "needs_background": "light"
     },
     "output_type": "display_data"
    }
   ],
   "source": []
  },
  {
   "cell_type": "code",
   "execution_count": null,
   "metadata": {},
   "outputs": [],
   "source": [
    "fig, ax = plt.subplots()\n",
    "\n",
    "males = data[data[\"Sex\"]==\"male\"]\n",
    "malesSurvived = males[males[\"Survived\"] == 1]\n",
    "\n",
    "females = data[data[\"Sex\"]==\"female\"]\n",
    "femalesSurvived = females[females[\"Survived\"] == 1]\n",
    "\n",
    "ax.hist(malesSurvived[\"Age\"], bins=20, alpha=0.6)\n",
    "ax.hist(femalesSurvived[\"Age\"], bins=20, alpha=0.5)\n",
    "ax.legend([\"Male\", \"Female\"])"
   ]
  },
  {
   "cell_type": "code",
   "execution_count": null,
   "metadata": {
    "collapsed": true
   },
   "outputs": [],
   "source": [
    "print(data.isna().sum())"
   ]
  },
  {
   "cell_type": "code",
   "execution_count": null,
   "metadata": {},
   "outputs": [],
   "source": [
    "x = data.drop([\"Survived\", \"PassengerId\", \"Cabin\", \"Ticket\"], axis=1) #keeping Age (even with predicted values) and Fare and removing it doesn't change predictions \n",
    "x_OHE = pd.get_dummies(x) #one hot encoding to convert word columns (Sex, Embarked Location) to numbers\n",
    "y = data[\"Survived\"]\n",
    "x_train, x_test, y_train, y_test = train_test_split(x_OHE,y,test_size=0.2)\n",
    "\n",
    "\n",
    "clf = RandomForestClassifier(n_estimators=100)\n",
    "clf.fit(x_train, y_train)\n",
    "survival_predictions = clf.predict(x_test)\n",
    "print(survival_predictions)\n",
    "print(\"Accuracy w Random Forest Classifier:\",metrics.accuracy_score(y_test, survival_predictions))\n",
    "\n",
    "\n",
    "#print(clf.feature_importances_)\n",
    "featureImportances = pd.DataFrame({\"Feature\": x_test.columns, \"Feature Imp. Values\": clf.feature_importances_})\n",
    "print(featureImportances.sort_values(by=[\"Feature Imp. Values\"]))\n",
    "\n",
    "# clf = tree.DecisionTreeClassifier()\n",
    "# clf = clf.fit(x_train, y_train)\n",
    "# survival_predictions = clf.predict(x_test)\n",
    "# print(x_test)\n",
    "# print(\"Accuracy w Decision Tree Classifier:\",metrics.accuracy_score(y_test, survival_predictions))\n",
    "\n",
    "# acc_decision_tree = round(clf.score(x_train, y_train)*100, 2)\n",
    "\n",
    "# print (\"Other accuracy: \",acc_decision_tree)\n",
    "\n",
    "\n",
    "\n",
    "# # #print(clf.feature_importances_)\n",
    "# # featureImportances = pd.DataFrame({\"Feature\": x_test.columns, \"Feature Imp. Values\": clf.feature_importances_})\n",
    "# # #print(featureImportances.sort_values(by=[\"Feature Imp. Values\"]))\n",
    "\n",
    "\n",
    "# #asdfasdfasdfasdfsadfsdfsadf\n",
    "\n",
    "\n",
    "\n"
   ]
  },
  {
   "cell_type": "code",
   "execution_count": null,
   "metadata": {},
   "outputs": [],
   "source": [
    "testingData = pd.read_csv(\"../input/titanic/test.csv\")\n",
    "\n",
    "\n",
    "\n",
    "testingData1 = testingData.drop([\"Ticket\", \"PassengerId\", \"Cabin\"], axis=1)\n",
    "\n",
    "\n",
    "\n",
    "testingData1[\"Fare\"] = testingData1[\"Fare\"].fillna(testingData[\"Fare\"].mean())\n",
    "testingData1[\"Age\"] = testingData1[\"Age\"].fillna(testingData[\"Age\"].mean())\n",
    "testingData1[\"Relatives\"] = testingData1[\"SibSp\"] + testingData1[\"Parch\"]\n",
    "testingData1.drop([\"SibSp\", \"Parch\"], axis=1, inplace=True)\n",
    "testingData1[\"Alone\"] = (testingData1[\"Relatives\"] == 0)\n",
    "testingData1[\"Alone\"] = testingData1[\"Alone\"].astype(int)\n",
    "testingData1[\"Age\"] = testingData1[\"Age\"].astype(int)\n",
    "\n",
    "\n",
    "titles = []\n",
    "testingData1[\"Title\"] = 0\n",
    "for row in range(len(testingData1[\"Name\"])):\n",
    "    comma = testingData1[\"Name\"][row].find(',')\n",
    "    period = testingData1[\"Name\"][row].find('.')\n",
    "    person_title = testingData1[\"Name\"][row][comma+2:period]\n",
    "    if(person_title not in titles):\n",
    "        titles.append(person_title)\n",
    "    testingData1[\"Title\"][row] = person_title\n",
    "\n",
    "\n",
    "testingData1 = testingData1.drop(\"Name\", axis=1)\n",
    "\n",
    "testingData1.replace([\"Ms\",\"Dona\", \"Mlle\"], \"Miss\", inplace=True)\n",
    "testingData1.replace(\"Mme\", \"Mrs\", inplace=True)\n",
    "testingData1.replace(\"Don\", \"Master\", inplace=True)\n",
    "testingData1.replace([\"Col\", \"Capt\"], \"Major\", inplace=True)\n",
    "testingData1.replace(\"Major\", \"Military\", inplace=True)\n",
    "testingData1.replace([\"Lady\", \"the Countess\"], \"Miss\", inplace=True)\n",
    "testingData1.replace([\"Rev\", \"Military\"], \"Dr\", inplace=True)\n",
    "testingData1.replace(\"Dr\", \"Occupational Title\", inplace=True)\n",
    "testingData1.replace([\"Jonkheer\", \"Sir\"], \"Mr\", inplace=True) \n",
    "\n",
    "#Fare Per Person\n",
    "testingData1[\"FarePerPerson\"] = testingData1[\"Fare\"] / (testingData1[\"Relatives\"]+1)\n",
    "testingData1[\"FarePerPerson\"] = testingData1[\"FarePerPerson\"].astype(int)\n",
    "\n",
    "\n",
    "#Age Times Class\n",
    "testingData1[\"AgeTimesClass\"] = testingData1[\"Age\"] * testingData1[\"Pclass\"]\n",
    "testingData1[\"AgeTimesClass\"] = testingData1[\"AgeTimesClass\"].astype(int)\n",
    "\n",
    "\n",
    "\n",
    "#Fare Categories\n",
    "for x in range(len(data[\"Fare\"])):\n",
    "    if (data.at[x, \"Fare\"] >= 0 and data.at[x, \"Fare\"] <64):\n",
    "        data.at[x, \"Fare\"] = 0\n",
    "    elif (data.at[x, \"Fare\"] >= 64 and data.at[x, \"Fare\"] <128):\n",
    "        data.at[x, \"Fare\"] = 1\n",
    "    elif (data.at[x, \"Fare\"] >= 128 and data.at[x, \"Fare\"] <192):\n",
    "        data.at[x, \"Fare\"] = 2\n",
    "    elif (data.at[x, \"Fare\"] >= 192 and data.at[x, \"Fare\"] <256):\n",
    "        data.at[x, \"Fare\"] = 3\n",
    "    elif (data.at[x, \"Fare\"] >= 256 and data.at[x, \"Fare\"] <320):\n",
    "        data.at[x, \"Fare\"] = 4\n",
    "    elif (data.at[x, \"Fare\"] >= 256 and data.at[x, \"Fare\"] <320):\n",
    "        data.at[x, \"Fare\"] = 5\n",
    "    elif (data.at[x, \"Fare\"] >= 320 and data.at[x, \"Fare\"] <384):\n",
    "        data.at[x, \"Fare\"] = 6\n",
    "    elif (data.at[x, \"Fare\"] >= 384 and data.at[x, \"Fare\"] <448):\n",
    "        data.at[x, \"Fare\"] = 7\n",
    "    elif (data.at[x, \"Fare\"] >= 448 and data.at[x, \"Fare\"] <513):\n",
    "        data.at[x, \"Fare\"] = 8\n",
    "    else:\n",
    "        data.at[x, \"Fare\"] = 9\n",
    "\n",
    "\n",
    "testingData1[\"Fare\"] = testingData1[\"Fare\"].astype(int)\n",
    "\n",
    "\n",
    "\n",
    "\n",
    "\n",
    "\n",
    "testingData1 = pd.get_dummies(testingData1)\n",
    "print(testingData1)\n",
    "survival_predictions = clf.predict(testingData1)\n",
    "# print(testingData[\"PassengerId\"][1:])\n",
    "df = pd.DataFrame(survival_predictions, columns=[\"Survived\"], index=[testingData[\"PassengerId\"]])\n",
    "df.to_csv(\"out4-3-20-MyOwnTesting2.csv\")"
   ]
  },
  {
   "cell_type": "code",
   "execution_count": null,
   "metadata": {},
   "outputs": [],
   "source": [
    "data = pd.read_csv(\"../input/titanic/train.csv\")\n",
    "data[\"Relatives\"] = data[\"SibSp\"] + data[\"Parch\"]\n",
    "\n",
    "data[\"alone\"] = data[\"Relatives\"] == 0\n",
    "data[\"alone\"] = data[\"alone\"].astype(int)\n",
    "\n",
    "\n",
    "x = data.drop([\"Ticket\",\"PassengerId\", \"Survived\"], axis=1)\n",
    "y = data[\"Survived\"]\n",
    "\n",
    "#print(data.head())\n",
    "\n",
    "titles = {\"Mr\": 1, \"Miss\": 2, \"Mrs\": 3, \"Master\": 4, \"Rare\": 5}\n",
    "# extract titles\n",
    "x['Title'] = x[\"Name\"].str.extract(' ([A-Za-z]+)\\.', expand=False)\n",
    "# replace titles with a more common title or as Rare\n",
    "x['Title'] = x['Title'].replace(['Lady', 'Countess','Capt', 'Col','Don', 'Dr',\\\n",
    "                                        'Major', 'Rev', 'Sir', 'Jonkheer', 'Dona'], 'Rare')\n",
    "x['Title'] = x['Title'].replace('Mlle', 'Miss')\n",
    "x['Title'] = x['Title'].replace('Ms', 'Miss')\n",
    "x['Title'] = x['Title'].replace('Mme', 'Mrs')\n",
    "# convert titles into numbers\n",
    "x['Title'] = x['Title'].map(titles)\n",
    "# filling NaN with 0, to get safe\n",
    "x['Title'] = x['Title'].fillna(0)\n",
    "\n",
    "x = x.drop(\"Name\", axis=1)\n",
    "\n",
    "#x_OHE = pd.get_dummies(x) #one hot encoding to convert word columns (Sex, Embarked Location) to numbers\n",
    "\n",
    "\n",
    "genders = {\"male\": 0, \"female\": 1}\n",
    "x['Sex'] = x['Sex'].map(genders)\n",
    "\n",
    "\n",
    "\n",
    "x[\"Age\"].fillna(x[\"Age\"].mean(), inplace=True)\n",
    "x['Age'] = x['Age'].astype(int)\n",
    "\n",
    "\n",
    "\n",
    "x.loc[x['Age'] <= 11, 'Age'] = 0\n",
    "x.loc[(x['Age'] > 11) & (x['Age'] <= 18), 'Age'] = 1\n",
    "x.loc[(x['Age'] > 18) & (x['Age'] <= 22), 'Age'] = 2\n",
    "x.loc[(x['Age'] > 22) & (x['Age'] <= 27), 'Age'] = 3\n",
    "x.loc[(x['Age'] > 27) & (x['Age'] <= 33), 'Age'] = 4\n",
    "x.loc[(x['Age'] > 33) & (x['Age'] <= 40), 'Age'] = 5\n",
    "x.loc[(x['Age'] > 40) & (x['Age'] <= 66), 'Age'] = 6\n",
    "x.loc[ x['Age'] > 66, 'Age'] = 6\n",
    "\n",
    "\n",
    "x.loc[ x['Fare'] <= 7.91, 'Fare'] = 0\n",
    "x.loc[(x['Fare'] > 7.91) & (x['Fare'] <= 14.454), 'Fare'] = 1\n",
    "x.loc[(x['Fare'] > 14.454) & (x['Fare'] <= 31), 'Fare']   = 2\n",
    "x.loc[(x['Fare'] > 31) & (x['Fare'] <= 99), 'Fare']   = 3\n",
    "x.loc[(x['Fare'] > 99) & (x['Fare'] <= 250), 'Fare']   = 4\n",
    "x.loc[ x['Fare'] > 250, 'Fare'] = 5\n",
    "x['Fare'] = x['Fare'].astype(int)\n",
    "\n",
    "\n",
    "\n",
    "\n",
    "\n",
    "x['Age_Class']= x['Age']* x['Pclass']\n",
    "x['Fare_Per_Person'] = x['Fare']/(x['Relatives']+1)\n",
    "x['Fare_Per_Person'] = x['Fare_Per_Person'].astype(int)\n",
    "\n",
    "\n",
    "import re\n",
    "deck = {\"A\": 1, \"B\": 2, \"C\": 3, \"D\": 4, \"E\": 5, \"F\": 6, \"G\": 7, \"U\": 8}\n",
    "data = [x]\n",
    "\n",
    "for dataset in data:\n",
    "    dataset['Cabin'] = dataset['Cabin'].fillna(\"U0\")\n",
    "    dataset['Deck'] = dataset['Cabin'].map(lambda x: re.compile(\"([a-zA-Z]+)\").search(x).group())\n",
    "    dataset['Deck'] = dataset['Deck'].map(deck)\n",
    "    dataset['Deck'] = dataset['Deck'].fillna(0)\n",
    "    dataset['Deck'] = dataset['Deck'].astype(int)\n",
    "\n",
    "\n",
    "\n",
    "x = x.drop(\"Cabin\", axis=1)\n",
    "\n",
    "x = pd.get_dummies(x)\n",
    "\n",
    "\n",
    "\n",
    "print(x)\n",
    "x_train, x_test, y_train, y_test = train_test_split(x,y,test_size=0.2)\n",
    "\n",
    "\n",
    "clf = RandomForestClassifier(n_estimators=100)\n",
    "clf.fit(x_train, y_train)\n",
    "survival_predictions = clf.predict(x_test)\n",
    "print(\"Accuracy:\",metrics.accuracy_score(y_test, survival_predictions))\n",
    "\n",
    "\n",
    "\n"
   ]
  },
  {
   "cell_type": "code",
   "execution_count": null,
   "metadata": {},
   "outputs": [],
   "source": [
    "featureImportances = pd.DataFrame({\"Feature\": x_test.columns, \"Feature Imp. Values\": clf.feature_importances_})\n",
    "print(featureImportances.sort_values(by=[\"Feature Imp. Values\"]))"
   ]
  },
  {
   "cell_type": "code",
   "execution_count": null,
   "metadata": {},
   "outputs": [],
   "source": [
    "#TESTING MODEL WITH TEST CSV\n",
    "\n",
    "data = pd.read_csv(\"../input/titanic/test.csv\")\n",
    "data[\"Relatives\"] = data[\"SibSp\"] + data[\"Parch\"]\n",
    "\n",
    "data[\"alone\"] = data[\"Relatives\"] == 0\n",
    "data[\"alone\"] = data[\"alone\"].astype(int)\n",
    "\n",
    "\n",
    "x = data.drop([\"Ticket\",\"PassengerId\"], axis=1)\n",
    "#y = data[\"Survived\"]\n",
    "\n",
    "#print(data.head())\n",
    "\n",
    "titles = {\"Mr\": 1, \"Miss\": 2, \"Mrs\": 3, \"Master\": 4, \"Rare\": 5}\n",
    "# extract titles\n",
    "x['Title'] = x[\"Name\"].str.extract(' ([A-Za-z]+)\\.', expand=False)\n",
    "# replace titles with a more common title or as Rare\n",
    "x['Title'] = x['Title'].replace(['Lady', 'Countess','Capt', 'Col','Don', 'Dr',\\\n",
    "                                        'Major', 'Rev', 'Sir', 'Jonkheer', 'Dona'], 'Rare')\n",
    "x['Title'] = x['Title'].replace('Mlle', 'Miss')\n",
    "x['Title'] = x['Title'].replace('Ms', 'Miss')\n",
    "x['Title'] = x['Title'].replace('Mme', 'Mrs')\n",
    "# convert titles into numbers\n",
    "x['Title'] = x['Title'].map(titles)\n",
    "# filling NaN with 0, to get safe\n",
    "x['Title'] = x['Title'].fillna(0)\n",
    "\n",
    "x = x.drop(\"Name\", axis=1)\n",
    "\n",
    "#x_OHE = pd.get_dummies(x) #one hot encoding to convert word columns (Sex, Embarked Location) to numbers\n",
    "\n",
    "\n",
    "genders = {\"male\": 0, \"female\": 1}\n",
    "x['Sex'] = x['Sex'].map(genders)\n",
    "\n",
    "\n",
    "\n",
    "x[\"Age\"].fillna(x[\"Age\"].mean(), inplace=True)\n",
    "x['Age'] = x['Age'].astype(int)\n",
    "\n",
    "\n",
    "\n",
    "x.loc[x['Age'] <= 11, 'Age'] = 0\n",
    "x.loc[(x['Age'] > 11) & (x['Age'] <= 18), 'Age'] = 1\n",
    "x.loc[(x['Age'] > 18) & (x['Age'] <= 22), 'Age'] = 2\n",
    "x.loc[(x['Age'] > 22) & (x['Age'] <= 27), 'Age'] = 3\n",
    "x.loc[(x['Age'] > 27) & (x['Age'] <= 33), 'Age'] = 4\n",
    "x.loc[(x['Age'] > 33) & (x['Age'] <= 40), 'Age'] = 5\n",
    "x.loc[(x['Age'] > 40) & (x['Age'] <= 66), 'Age'] = 6\n",
    "x.loc[ x['Age'] > 66, 'Age'] = 6\n",
    "\n",
    "x[\"Fare\"].fillna(x[\"Fare\"].mean(), inplace=True)\n",
    "x.loc[ x['Fare'] <= 7.91, 'Fare'] = 0\n",
    "x.loc[(x['Fare'] > 7.91) & (x['Fare'] <= 14.454), 'Fare'] = 1\n",
    "x.loc[(x['Fare'] > 14.454) & (x['Fare'] <= 31), 'Fare']   = 2\n",
    "x.loc[(x['Fare'] > 31) & (x['Fare'] <= 99), 'Fare']   = 3\n",
    "x.loc[(x['Fare'] > 99) & (x['Fare'] <= 250), 'Fare']   = 4\n",
    "x.loc[ x['Fare'] > 250, 'Fare'] = 5\n",
    "\n",
    "\n",
    "\n",
    "x['Fare'] = x['Fare'].astype(int)\n",
    "\n",
    "\n",
    "\n",
    "\n",
    "\n",
    "x['Age_Class']= x['Age']* x['Pclass']\n",
    "x['Fare_Per_Person'] = x['Fare']/(x['Relatives']+1)\n",
    "x['Fare_Per_Person'] = x['Fare_Per_Person'].astype(int)\n",
    "\n",
    "\n",
    "import re\n",
    "deck = {\"A\": 1, \"B\": 2, \"C\": 3, \"D\": 4, \"E\": 5, \"F\": 6, \"G\": 7, \"U\": 8}\n",
    "data = [x]\n",
    "\n",
    "for dataset in data:\n",
    "    dataset['Cabin'] = dataset['Cabin'].fillna(\"U0\")\n",
    "    dataset['Deck'] = dataset['Cabin'].map(lambda x: re.compile(\"([a-zA-Z]+)\").search(x).group())\n",
    "    dataset['Deck'] = dataset['Deck'].map(deck)\n",
    "    dataset['Deck'] = dataset['Deck'].fillna(0)\n",
    "    dataset['Deck'] = dataset['Deck'].astype(int)\n",
    "\n",
    "\n",
    "\n",
    "x = x.drop(\"Cabin\", axis=1)\n",
    "\n",
    "x = pd.get_dummies(x)\n",
    "\n",
    "\n",
    "survival_predictions = clf.predict(x)\n",
    "# print(testingData[\"PassengerId\"][1:])\n",
    "df = pd.DataFrame(survival_predictions, columns=[\"Survived\"], index=[testingData[\"PassengerId\"]])\n",
    "df.to_csv(\"out4-1-20-2nd.csv\")"
   ]
  },
  {
   "cell_type": "code",
   "execution_count": null,
   "metadata": {},
   "outputs": [],
   "source": []
  }
 ],
 "metadata": {
  "kernelspec": {
   "display_name": "Python 3",
   "language": "python",
   "name": "python3"
  },
  "language_info": {
   "codemirror_mode": {
    "name": "ipython",
    "version": 3
   },
   "file_extension": ".py",
   "mimetype": "text/x-python",
   "name": "python",
   "nbconvert_exporter": "python",
   "pygments_lexer": "ipython3",
   "version": "3.6.10"
  }
 },
 "nbformat": 4,
 "nbformat_minor": 4
}
